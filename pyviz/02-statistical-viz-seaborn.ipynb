{
 "cells": [
  {
   "cell_type": "markdown",
   "id": "a9572126-fbc0-4db1-aa18-a86e7ff521c7",
   "metadata": {},
   "source": [
    "# Statistical visualization with Seaborn\n",
    "\n",
    "In the previous notebook, you saw how to operate on Matplotlib objects. This serves as an important foundation. But now, I am going to show you a short-cut that will allow you to create elegant and rather complex visualizations of statistical quantities, without having to operate at that low level. This is the Seaborn visualization library. It builds upon the Matplotlib basis to "
   ]
  },
  {
   "cell_type": "code",
   "execution_count": null,
   "id": "0b8d5429-a77b-4e19-b537-2637d5cceec4",
   "metadata": {},
   "outputs": [],
   "source": []
  }
 ],
 "metadata": {
  "kernelspec": {
   "display_name": "Python 3",
   "language": "python",
   "name": "python3"
  },
  "language_info": {
   "codemirror_mode": {
    "name": "ipython",
    "version": 3
   },
   "file_extension": ".py",
   "mimetype": "text/x-python",
   "name": "python",
   "nbconvert_exporter": "python",
   "pygments_lexer": "ipython3",
   "version": "3.8.10"
  }
 },
 "nbformat": 4,
 "nbformat_minor": 5
}
