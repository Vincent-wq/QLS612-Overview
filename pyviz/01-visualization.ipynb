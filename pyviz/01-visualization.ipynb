{
 "cells": [
  {
   "cell_type": "markdown",
   "id": "543e1785-3f3f-488d-9e56-805b0558285c",
   "metadata": {},
   "source": [
    "# Data visualization with Python\n",
    "\n",
    "A picture is worth a thousand words. This is even more true for data analysis, and particularly when the data are large, complex and multi-dimensional. We need to look at our data to make sure that it represents what we think it does and we often need to show our data in order to communicate well with others. \n",
    "\n",
    "There are many different ways to visualize data in Python. In fact, there are so many different options that serve every imaginable use-case, that there is a website devoted to helping users sort out what tool to use for what purpose. As an example, the following diagram is taken from that website: \n",
    "\n",
    "![](images/pyviz_options.png)\n"
   ]
  },
  {
   "cell_type": "markdown",
   "id": "731e42e6-8be0-4b6f-9cfc-03f2b5ad1d7e",
   "metadata": {},
   "source": [
    "As you can see, the universe of Python visualization divides roughly into a few constellations around some major stars. One of the main decisions that you need to make is whether you need very high performance (in which case, you might want to program in one of the libraries that interact directly with OpenGL, in green in the lower left), whether you are primarily targeting presentation of the visualizations in the browser (in which case, interaction with javascript may be desirable, and you might be in the top left, in red), or whether you would like to rely on Matplotlib (which puts you in the top right, in purple). \n",
    "\n",
    "The point is that you will have to consider all of these options and choose something that works well for you. And this might involve some trial and error. "
   ]
  },
  {
   "cell_type": "markdown",
   "id": "806ec334-beda-411f-8c5b-7bb5c39613a8",
   "metadata": {},
   "source": [
    "For today, we will start with Matplotlib. There are a few reasons to get started there. The first is that it may very well be the easiest of all of these to teach and to learn. It is also a pretty good choice, becuase it is very popular in the scientific Python ecosystem, and because it is a very well-supported by a large community of developers. \n",
    "\n",
    "Matplotlib was started by a neuroscientist, John Hunter, while he was a postdoc at the University of Chicago. Within a few years, together with the rest of the scientific Python ecosystem, Matplotlib took off in popularity, and John left neuroscience to work at a Chicago-based hedge-fund, while still maintaining the library. Having learned about the challenges of software sustainability, he was among the founders of Numfocus, which is a non-profit that serves as the fiscal sponsor for many projects in this ecosystem (enabling them to take contributions, accept grants, and so on). The community around Matplotlib grew and now encompasses more than 1,000 contributors. The library and its visual style became familiar through images such as the images that described the first recording of gravitational waves by the LIGO collaboration: \n",
    "\n",
    "![](images/ligo_mpl.png)\n",
    "\n",
    "Or the famous images of a black hole created by the Event Horizon Telescope team.\n",
    "\n",
    "\n",
    "![](images/black_hole_mpl.png)\n",
    "\n",
    "This picture is cool not only because it's a ground-breaking result and it was also made with Matplotlib, seen on that laptop screen, but it also seems to have captured the moment that this result was obtained and the excitement of the researchers (Katie Bouman, at the time at MIT, and now at Caltech, who led the image processing effort that led to this result).\n",
    "\n",
    "In other words, if you use Matplotlib, you are almost guaranteed to make ground-breaking discoveries! "
   ]
  },
  {
   "cell_type": "markdown",
   "id": "cb02370e-effd-4ea5-9f93-a8b35ff9e3a6",
   "metadata": {},
   "source": [
    "Presenting graphical information is complicated business and Matplotlib is a rather large and complicated library. There are different ways to call functions that would do similar things, depending on the level of detail that you would like to adopt. This makes it a bit hard, because you have to decide at which level you would like to call Matplotlib. However, there is one particular API that is almost always the right choice for a good balance of flexibility and expressivity, and I strongly recommend to always use this API. This is the API that we will learn here. \n",
    "\n",
    "This API relies on the creation of two separate objects that interact with each other, and the manipulation of the properties of these objects. These are a `Figure` object and an `Axes` object. The `Figure` is a bit like a page on which the data will be presented. The `Axes` object is the canvas that contains the coordinate frame for data presentation. Let's look at the simplest possible example of creating these. First, we import the sub-module that contains this particular API, `matplolib.pyplot`. You can name it anything you want, but it is a rather strong convention to name it `plt`"
   ]
  },
  {
   "cell_type": "code",
   "execution_count": 1,
   "id": "661fd9f9-7a9a-443e-9581-d2ea6882758e",
   "metadata": {},
   "outputs": [],
   "source": [
    "import matplotlib.pyplot as plt"
   ]
  },
  {
   "cell_type": "code",
   "execution_count": 2,
   "id": "d76a1dd7-264a-49c5-b966-797c7fe48e24",
   "metadata": {},
   "outputs": [
    {
     "data": {
      "image/png": "[encoded data removed]",
      "text/plain": [
       "<Figure size 432x288 with 1 Axes>"
      ]
     },
     "metadata": {
      "needs_background": "light"
     },
     "output_type": "display_data"
    }
   ],
   "source": [
    "fig, ax = plt.subplots()"
   ]
  },
  {
   "cell_type": "markdown",
   "id": "d8edc702-66c9-49ff-86f6-f24581e5b5ca",
   "metadata": {},
   "source": [
    "At this point all we have is the coordinate frame. But the `Axes` object (which we have named `ax` in this example) has methods that can be used to add data into the coordinate frame. So, if we contine within the same cell, we can start adding data to the `Axes`. We'll start by using the `ax.plot` method. The default of this method is to draw a line.  For now, let's keep things really simple, before looking at some real data. "
   ]
  },
  {
   "cell_type": "code",
   "execution_count": 9,
   "id": "1f2226f4-42ae-4eb5-9f8e-3a66d4e17b55",
   "metadata": {},
   "outputs": [
    {
     "data": {
      "text/plain": [
       "[<matplotlib.lines.Line2D at 0x7fe10f3958b0>]"
      ]
     },
     "execution_count": 9,
     "metadata": {},
     "output_type": "execute_result"
    },
    {
     "data": {
      "image/png": "[encoded data removed]",
      "text/plain": [
       "<Figure size 432x288 with 1 Axes>"
      ]
     },
     "metadata": {
      "needs_background": "light"
     },
     "output_type": "display_data"
    }
   ],
   "source": [
    "fig, ax = plt.subplots()\n",
    "\n",
    "ax.plot([1, 2, 4, 8, 16])"
   ]
  },
  {
   "cell_type": "markdown",
   "id": "d8e15864-6b67-4afc-8776-6e65d56b45ad",
   "metadata": {},
   "source": [
    "If only one sequence is provided, `plot` assumes that this is uniformly sampled and puts the values on y. If two sequences are provided, the first sequence is taken to be the x coordinates, and the second sequence is taken to be the y coordinates"
   ]
  },
  {
   "cell_type": "code",
   "execution_count": 10,
   "id": "428f9e8f-4984-422c-89cf-f1ad746d9ba4",
   "metadata": {},
   "outputs": [
    {
     "data": {
      "text/plain": [
       "[<matplotlib.lines.Line2D at 0x7fe10f306bb0>]"
      ]
     },
     "execution_count": 10,
     "metadata": {},
     "output_type": "execute_result"
    },
    {
     "data": {
      "image/png": "[encoded data removed]",
      "text/plain": [
       "<Figure size 432x288 with 1 Axes>"
      ]
     },
     "metadata": {
      "needs_background": "light"
     },
     "output_type": "display_data"
    }
   ],
   "source": [
    "fig, ax = plt.subplots()\n",
    "ax.plot([1, 2, 4, 5, 10], [1, 2, 4, 8, 16])  # Two sequences are provided => first is x coordinates, second is y coordinates"
   ]
  },
  {
   "cell_type": "markdown",
   "id": "79196f3f-c99e-4ad3-a7e1-51f014456fd3",
   "metadata": {},
   "source": [
    "Matplotlib plotting also plays nice with Pandas data structures. For an example, let's look at a neuroscience dataset stored as a tsv file. This is the ABIDEII dataset (if you attended the machine learning tutorial, this dataset should be familiar to you). It contains measurements from more than 1,000 individuals, approximately half of which have been diagnosed with autism. The measurements were processed with Freesurfer, and for every individual, we have surface area, volume, cortical thickness, and local gyrification index in 360 different cortical regions of interest. The data also includes a few variables of phenotypic data such as age, sex and whether they are diagnosed with autism (group=1), or not (group=2)."
   ]
  },
  {
   "cell_type": "code",
   "execution_count": 49,
   "id": "25e41722-4e80-40bb-9146-9cfddf6c3f10",
   "metadata": {},
   "outputs": [],
   "source": [
    "import pandas as pd"
   ]
  },
  {
   "cell_type": "code",
   "execution_count": 50,
   "id": "742a63f7-b23a-4b18-a04f-953cc7aa9667",
   "metadata": {},
   "outputs": [],
   "source": [
    "abide = pd.read_csv('/home/jovyan/data/abide2.tsv', sep='\\t')"
   ]
  },
  {
   "cell_type": "code",
   "execution_count": 51,
   "id": "80bed96f-6b46-4ffd-8996-be317633885c",
   "metadata": {},
   "outputs": [
    {
     "data": {
      "text/html": [
       "<div>\n",
       "<style scoped>\n",
       "    .dataframe tbody tr th:only-of-type {\n",
       "        vertical-align: middle;\n",
       "    }\n",
       "\n",
       "    .dataframe tbody tr th {\n",
       "        vertical-align: top;\n",
       "    }\n",
       "\n",
       "    .dataframe thead th {\n",
       "        text-align: right;\n",
       "    }\n",
       "</style>\n",
       "<table border=\"1\" class=\"dataframe\">\n",
       "  <thead>\n",
       "    <tr style=\"text-align: right;\">\n",
       "      <th></th>\n",
       "      <th>site</th>\n",
       "      <th>subject</th>\n",
       "      <th>age</th>\n",
       "      <th>age_resid</th>\n",
       "      <th>sex</th>\n",
       "      <th>group</th>\n",
       "      <th>fsArea_L_V1_ROI</th>\n",
       "      <th>fsArea_L_MST_ROI</th>\n",
       "      <th>fsArea_L_V6_ROI</th>\n",
       "      <th>fsArea_L_V2_ROI</th>\n",
       "      <th>...</th>\n",
       "      <th>fsCT_R_p47r_ROI</th>\n",
       "      <th>fsCT_R_TGv_ROI</th>\n",
       "      <th>fsCT_R_MBelt_ROI</th>\n",
       "      <th>fsCT_R_LBelt_ROI</th>\n",
       "      <th>fsCT_R_A4_ROI</th>\n",
       "      <th>fsCT_R_STSva_ROI</th>\n",
       "      <th>fsCT_R_TE1m_ROI</th>\n",
       "      <th>fsCT_R_PI_ROI</th>\n",
       "      <th>fsCT_R_a32pr_ROI</th>\n",
       "      <th>fsCT_R_p24_ROI</th>\n",
       "    </tr>\n",
       "  </thead>\n",
       "  <tbody>\n",
       "    <tr>\n",
       "      <th>0</th>\n",
       "      <td>ABIDEII-KKI_1</td>\n",
       "      <td>29293</td>\n",
       "      <td>8.893151</td>\n",
       "      <td>13.642852</td>\n",
       "      <td>2.0</td>\n",
       "      <td>1.0</td>\n",
       "      <td>2750.0</td>\n",
       "      <td>306.0</td>\n",
       "      <td>354.0</td>\n",
       "      <td>2123.0</td>\n",
       "      <td>...</td>\n",
       "      <td>3.362</td>\n",
       "      <td>2.827</td>\n",
       "      <td>2.777</td>\n",
       "      <td>2.526</td>\n",
       "      <td>3.202</td>\n",
       "      <td>3.024</td>\n",
       "      <td>3.354</td>\n",
       "      <td>2.629</td>\n",
       "      <td>2.699</td>\n",
       "      <td>3.179</td>\n",
       "    </tr>\n",
       "    <tr>\n",
       "      <th>1</th>\n",
       "      <td>ABIDEII-OHSU_1</td>\n",
       "      <td>28997</td>\n",
       "      <td>12.000000</td>\n",
       "      <td>16.081732</td>\n",
       "      <td>2.0</td>\n",
       "      <td>1.0</td>\n",
       "      <td>2836.0</td>\n",
       "      <td>186.0</td>\n",
       "      <td>354.0</td>\n",
       "      <td>2261.0</td>\n",
       "      <td>...</td>\n",
       "      <td>2.809</td>\n",
       "      <td>3.539</td>\n",
       "      <td>2.944</td>\n",
       "      <td>2.769</td>\n",
       "      <td>3.530</td>\n",
       "      <td>3.079</td>\n",
       "      <td>3.282</td>\n",
       "      <td>2.670</td>\n",
       "      <td>2.746</td>\n",
       "      <td>3.324</td>\n",
       "    </tr>\n",
       "    <tr>\n",
       "      <th>2</th>\n",
       "      <td>ABIDEII-GU_1</td>\n",
       "      <td>28845</td>\n",
       "      <td>8.390000</td>\n",
       "      <td>12.866264</td>\n",
       "      <td>1.0</td>\n",
       "      <td>2.0</td>\n",
       "      <td>3394.0</td>\n",
       "      <td>223.0</td>\n",
       "      <td>373.0</td>\n",
       "      <td>2827.0</td>\n",
       "      <td>...</td>\n",
       "      <td>2.435</td>\n",
       "      <td>3.321</td>\n",
       "      <td>2.799</td>\n",
       "      <td>2.388</td>\n",
       "      <td>3.148</td>\n",
       "      <td>3.125</td>\n",
       "      <td>3.116</td>\n",
       "      <td>2.891</td>\n",
       "      <td>2.940</td>\n",
       "      <td>3.232</td>\n",
       "    </tr>\n",
       "    <tr>\n",
       "      <th>3</th>\n",
       "      <td>ABIDEII-NYU_1</td>\n",
       "      <td>29210</td>\n",
       "      <td>8.300000</td>\n",
       "      <td>13.698139</td>\n",
       "      <td>1.0</td>\n",
       "      <td>1.0</td>\n",
       "      <td>3382.0</td>\n",
       "      <td>266.0</td>\n",
       "      <td>422.0</td>\n",
       "      <td>2686.0</td>\n",
       "      <td>...</td>\n",
       "      <td>3.349</td>\n",
       "      <td>3.344</td>\n",
       "      <td>2.694</td>\n",
       "      <td>3.030</td>\n",
       "      <td>3.258</td>\n",
       "      <td>2.774</td>\n",
       "      <td>3.383</td>\n",
       "      <td>2.696</td>\n",
       "      <td>3.014</td>\n",
       "      <td>3.264</td>\n",
       "    </tr>\n",
       "    <tr>\n",
       "      <th>4</th>\n",
       "      <td>ABIDEII-EMC_1</td>\n",
       "      <td>29894</td>\n",
       "      <td>7.772758</td>\n",
       "      <td>14.772459</td>\n",
       "      <td>2.0</td>\n",
       "      <td>2.0</td>\n",
       "      <td>3080.0</td>\n",
       "      <td>161.0</td>\n",
       "      <td>346.0</td>\n",
       "      <td>2105.0</td>\n",
       "      <td>...</td>\n",
       "      <td>2.428</td>\n",
       "      <td>2.940</td>\n",
       "      <td>2.809</td>\n",
       "      <td>2.607</td>\n",
       "      <td>3.430</td>\n",
       "      <td>2.752</td>\n",
       "      <td>2.645</td>\n",
       "      <td>3.111</td>\n",
       "      <td>3.219</td>\n",
       "      <td>4.128</td>\n",
       "    </tr>\n",
       "  </tbody>\n",
       "</table>\n",
       "<p>5 rows × 1446 columns</p>\n",
       "</div>"
      ],
      "text/plain": [
       "             site  subject        age  age_resid  sex  group  fsArea_L_V1_ROI  \\\n",
       "0   ABIDEII-KKI_1    29293   8.893151  13.642852  2.0    1.0           2750.0   \n",
       "1  ABIDEII-OHSU_1    28997  12.000000  16.081732  2.0    1.0           2836.0   \n",
       "2    ABIDEII-GU_1    28845   8.390000  12.866264  1.0    2.0           3394.0   \n",
       "3   ABIDEII-NYU_1    29210   8.300000  13.698139  1.0    1.0           3382.0   \n",
       "4   ABIDEII-EMC_1    29894   7.772758  14.772459  2.0    2.0           3080.0   \n",
       "\n",
       "   fsArea_L_MST_ROI  fsArea_L_V6_ROI  fsArea_L_V2_ROI  ...  fsCT_R_p47r_ROI  \\\n",
       "0             306.0            354.0           2123.0  ...            3.362   \n",
       "1             186.0            354.0           2261.0  ...            2.809   \n",
       "2             223.0            373.0           2827.0  ...            2.435   \n",
       "3             266.0            422.0           2686.0  ...            3.349   \n",
       "4             161.0            346.0           2105.0  ...            2.428   \n",
       "\n",
       "   fsCT_R_TGv_ROI  fsCT_R_MBelt_ROI  fsCT_R_LBelt_ROI  fsCT_R_A4_ROI  \\\n",
       "0           2.827             2.777             2.526          3.202   \n",
       "1           3.539             2.944             2.769          3.530   \n",
       "2           3.321             2.799             2.388          3.148   \n",
       "3           3.344             2.694             3.030          3.258   \n",
       "4           2.940             2.809             2.607          3.430   \n",
       "\n",
       "   fsCT_R_STSva_ROI  fsCT_R_TE1m_ROI  fsCT_R_PI_ROI  fsCT_R_a32pr_ROI  \\\n",
       "0             3.024            3.354          2.629             2.699   \n",
       "1             3.079            3.282          2.670             2.746   \n",
       "2             3.125            3.116          2.891             2.940   \n",
       "3             2.774            3.383          2.696             3.014   \n",
       "4             2.752            2.645          3.111             3.219   \n",
       "\n",
       "   fsCT_R_p24_ROI  \n",
       "0           3.179  \n",
       "1           3.324  \n",
       "2           3.232  \n",
       "3           3.264  \n",
       "4           4.128  \n",
       "\n",
       "[5 rows x 1446 columns]"
      ]
     },
     "execution_count": 51,
     "metadata": {},
     "output_type": "execute_result"
    }
   ],
   "source": [
    "abide.head()"
   ]
  },
  {
   "cell_type": "markdown",
   "id": "fb9a8c15-420a-4972-b11f-95d0a896fe2a",
   "metadata": {},
   "source": [
    "Let's visualize the average surface areas of visual cortical areas in the left hemisphere. We can select only these columns using the `filter` method of the `DataFrame` object:"
   ]
  },
  {
   "cell_type": "code",
   "execution_count": 52,
   "id": "734362bc-80eb-42ca-a126-a857a7d0e9d1",
   "metadata": {},
   "outputs": [],
   "source": [
    "area_visual_l = abide.filter(like=\"fsArea_L_V\")"
   ]
  },
  {
   "cell_type": "markdown",
   "id": "fc6ee560-73a7-4e33-9c1a-10861ac6b1b8",
   "metadata": {},
   "source": [
    "We extract the mean values in each column using the `mean` method:"
   ]
  },
  {
   "cell_type": "code",
   "execution_count": 54,
   "id": "c4353da2-7f57-40ab-b76f-c299aeafde43",
   "metadata": {},
   "outputs": [],
   "source": [
    "mean_area_visual_l = area_visual_l.mean()"
   ]
  },
  {
   "cell_type": "markdown",
   "id": "39480c7b-745d-4e7c-be03-e0c9975fa8c9",
   "metadata": {},
   "source": [
    "The resulting object is a Pandas `Series` object:"
   ]
  },
  {
   "cell_type": "code",
   "execution_count": 61,
   "id": "15013f3d-c453-499a-9848-c3aff32f90ba",
   "metadata": {},
   "outputs": [
    {
     "data": {
      "text/plain": [
       "fsArea_L_V1_ROI      3161.415339\n",
       "fsArea_L_V6_ROI       395.445219\n",
       "fsArea_L_V2_ROI      2613.914343\n",
       "fsArea_L_V3_ROI      1747.647410\n",
       "fsArea_L_V4_ROI      1298.107570\n",
       "fsArea_L_V8_ROI       262.410359\n",
       "fsArea_L_V3A_ROI      548.596614\n",
       "fsArea_L_V7_ROI       191.146414\n",
       "fsArea_L_V3B_ROI      250.449203\n",
       "fsArea_L_VIP_ROI      352.148406\n",
       "fsArea_L_V6A_ROI      159.583665\n",
       "fsArea_L_VMV1_ROI     270.120518\n",
       "fsArea_L_VMV3_ROI     218.191235\n",
       "fsArea_L_V4t_ROI      183.193227\n",
       "fsArea_L_V3CD_ROI     294.676295\n",
       "fsArea_L_VMV2_ROI     211.478088\n",
       "fsArea_L_VVC_ROI      484.571713\n",
       "dtype: float64"
      ]
     },
     "execution_count": 61,
     "metadata": {},
     "output_type": "execute_result"
    }
   ],
   "source": [
    "mean_area_visual_l"
   ]
  },
  {
   "cell_type": "markdown",
   "id": "b055db74-7d11-44e0-8ecc-959778686f1b",
   "metadata": {},
   "source": [
    "Next, we use `ax.plot` passing this series in as input. Matplotlib automatically inserts the values in the index as x tick labels. Because these are long, we will use the `ax.tick_params` method to rotate them 90 degrees, to avoid them colliding with each other.\n",
    "\n",
    "We will also start using the best practices in annotating our axes with labels, using the `ax.set_xlabel` and `ax.set_ylabel` methods to insert labels: "
   ]
  },
  {
   "cell_type": "code",
   "execution_count": 63,
   "id": "fab4afe8-14aa-4d18-8fb6-3b3c5dd9407f",
   "metadata": {},
   "outputs": [
    {
     "data": {
      "text/plain": [
       "Text(0, 0.5, 'Area ($mm^2$)')"
      ]
     },
     "execution_count": 63,
     "metadata": {},
     "output_type": "execute_result"
    },
    {
     "data": {
      "image/png": "[encoded data removed]",
      "text/plain": [
       "<Figure size 432x288 with 1 Axes>"
      ]
     },
     "metadata": {
      "needs_background": "light"
     },
     "output_type": "display_data"
    }
   ],
   "source": [
    "fig, ax = plt.subplots()\n",
    "ax.plot(mean_area_visual_l)\n",
    "ax.tick_params(axis='x', labelrotation = 90)\n",
    "ax.set_xlabel(\"Visual area\")\n",
    "ax.set_ylabel(\"Area ($mm^2$)\")"
   ]
  },
  {
   "cell_type": "markdown",
   "id": "f7ca4bf0-df0d-4518-8506-c7d03af5de9b",
   "metadata": {},
   "source": [
    "Matplotlib accepts the \"$\" sign as a marker that the enclosed text should be rendered in latex math style. This means that we can do things like use `^` for a superscript, but we can also write more complicated math into these labels if we need to. "
   ]
  },
  {
   "cell_type": "markdown",
   "id": "1e14c175-4813-4ce7-97e3-822f0bdbdf3a",
   "metadata": {},
   "source": [
    "area_visual_r = abide.filter(like=\"fsArea_R_V\")"
   ]
  },
  {
   "cell_type": "code",
   "execution_count": 75,
   "id": "4fe317d4-16cd-4bdb-8857-2b27832e59a6",
   "metadata": {},
   "outputs": [
    {
     "data": {
      "text/plain": [
       "Text(0, 0.5, 'Right V1 area ($mm^2$)')"
      ]
     },
     "execution_count": 75,
     "metadata": {},
     "output_type": "execute_result"
    },
    {
     "data": {
      "image/png": "[encoded data removed]",
      "text/plain": [
       "<Figure size 432x288 with 1 Axes>"
      ]
     },
     "metadata": {
      "needs_background": "light"
     },
     "output_type": "display_data"
    }
   ],
   "source": [
    "fig, ax = plt.subplots()\n",
    "ax.scatter(abide[\"fsArea_L_V1_ROI\"], abide[\"fsArea_R_V1_ROI\"])\n",
    "ax.plot(ax.get_ylim(), ax.get_ylim(), 'k--')\n",
    "ax.set_xlabel(\"Left V1 area ($mm^2$)\")\n",
    "ax.set_ylabel(\"Right V1 area ($mm^2$)\")"
   ]
  },
  {
   "cell_type": "code",
   "execution_count": null,
   "id": "448a67ce-1b49-4101-9d81-c55643565465",
   "metadata": {},
   "outputs": [],
   "source": []
  }
 ],
 "metadata": {
  "kernelspec": {
   "display_name": "Python 3",
   "language": "python",
   "name": "python3"
  },
  "language_info": {
   "codemirror_mode": {
    "name": "ipython",
    "version": 3
   },
   "file_extension": ".py",
   "mimetype": "text/x-python",
   "name": "python",
   "nbconvert_exporter": "python",
   "pygments_lexer": "ipython3",
   "version": "3.8.10"
  }
 },
 "nbformat": 4,
 "nbformat_minor": 5
}
