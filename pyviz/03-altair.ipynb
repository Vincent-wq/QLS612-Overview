{
 "cells": [
  {
   "cell_type": "code",
   "execution_count": 2,
   "id": "143edd09-df3d-4be8-86bb-86f0ec62a0a6",
   "metadata": {},
   "outputs": [],
   "source": [
    "import pandas as pd"
   ]
  },
  {
   "cell_type": "code",
   "execution_count": 3,
   "id": "f7f13b24-d53a-4a2b-9e43-9c294afe7300",
   "metadata": {},
   "outputs": [],
   "source": [
    "abide = pd.read_csv('/home/jovyan/data/abide2.tsv', sep='\\t')"
   ]
  },
  {
   "cell_type": "code",
   "execution_count": null,
   "id": "c21108e4-f162-4a17-817b-f60d89dfe560",
   "metadata": {},
   "outputs": [],
   "source": [
    "import altair as alt"
   ]
  }
 ],
 "metadata": {
  "kernelspec": {
   "display_name": "Python 3",
   "language": "python",
   "name": "python3"
  },
  "language_info": {
   "codemirror_mode": {
    "name": "ipython",
    "version": 3
   },
   "file_extension": ".py",
   "mimetype": "text/x-python",
   "name": "python",
   "nbconvert_exporter": "python",
   "pygments_lexer": "ipython3",
   "version": "3.8.10"
  }
 },
 "nbformat": 4,
 "nbformat_minor": 5
}
