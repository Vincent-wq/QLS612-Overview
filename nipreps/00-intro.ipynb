{
 "cells": [
  {
   "cell_type": "markdown",
   "metadata": {
    "slideshow": {
     "slide_type": "slide"
    }
   },
   "source": [
    "# NiPreps - NeuroImaging PREProcessing toolS\n",
    "\n",
    "## Oscar Esteban\n",
    "\n",
    "## www.nipreps.org"
   ]
  },
  {
   "cell_type": "markdown",
   "metadata": {
    "slideshow": {
     "slide_type": "slide"
    }
   },
   "source": [
    "# Why can't we just go ahead with analysis/modeling?\n",
    "\n",
    "- Image registration between acquisitions (e.g., sessions, runs, modalities, etc.)\n",
    "- Image registration to normalized spaces (*templates*) for reporting and bringing atlas information.\n",
    "- Identifying spurious sources of signal\n",
    "- Address particular artifacts intrinsic to the acquisition (head-motion, susceptibility-derived distortions, signal drifts, Gibbs ringing, etc.)\n",
    "- Other: normalizing temporal/spatial sampling, automated segmentation (e.g., brain mask)"
   ]
  },
  {
   "cell_type": "markdown",
   "metadata": {
    "slideshow": {
     "slide_type": "slide"
    }
   },
   "source": [
    "# Augmenting scanners to produce \"analysis-grade\" data\n",
    "\n",
    "(analysis-grade = data directly consumable by analyses)\n",
    "\n",
    "***Analysis-grade* data** is an analogy to the concept of \"*sushi-grade* (or [*sashimi-grade*](https://en.wikipedia.org/wiki/Sashimi)) *fish*\" in that both are:\n",
    "\n",
    "  * **minimally preprocessed**,\n",
    "  * **safe to consume** directly.\n",
    "\n"
   ]
  },
  {
   "cell_type": "markdown",
   "metadata": {
    "slideshow": {
     "slide_type": "slide"
    }
   },
   "source": [
    "## Generalizing *fMRIPrep* to new modalities and populations\n",
    "\n",
    "We followed a process of deconstructing *fMRIPrep* in its constituent modules, to provide usable *off-the-shelf* workflows common across preprocessing tasks.\n",
    "\n",
    "For example, susceptibility distortion correction (SDC), which addresses the geometrical distortion as a consequence of the fast scanning of EPI images. The same theoretical bases and available tools serve for the SDC of functional and diffusion MRI data."
   ]
  },
  {
   "cell_type": "markdown",
   "metadata": {
    "slideshow": {
     "slide_type": "slide"
    }
   },
   "source": [
    "<center><img style=\"width: 70%\" src=\"https://github.com/nipreps/nipreps.github.io/raw/mkdocs/docs/assets/nipreps-chart.png\" /></center>"
   ]
  },
  {
   "cell_type": "markdown",
   "metadata": {
    "slideshow": {
     "slide_type": "slide"
    }
   },
   "source": [
    "## Driving principles\n",
    "\n",
    "*NiPreps* are built around three overarching principles:"
   ]
  },
  {
   "cell_type": "markdown",
   "metadata": {
    "slideshow": {
     "slide_type": "subslide"
    }
   },
   "source": [
    "1. **Robustness** - The pipeline adapts the preprocessing steps depending on\n",
    "   the input dataset and should provide results as good as possible\n",
    "   independently of scanner make, scanning parameters or presence of additional\n",
    "   correction scans (such as fieldmaps).\n",
    "1. **Ease of use** - Thanks to BIDS, manual\n",
    "   parameter input is reduced to a minimum, allowing the pipeline to run in an\n",
    "   automatic fashion.\n",
    "1. **\"Glass box\"** philosophy - the end-user *NiPreps* provide visual reports for each subject, detailing the\n",
    "   accuracy of the most important processing steps.\n",
    "   This, combined with the documentation, can help researchers to understand\n",
    "   the preprocessing flow."
   ]
  },
  {
   "cell_type": "markdown",
   "metadata": {
    "slideshow": {
     "slide_type": "subslide"
    }
   },
   "source": [
    "These principles distill some design and organizational foundations:\n",
    "\n",
    "  1. *NiPreps* only and fully support BIDS and BIDS-Derivatives for the input and output data.\n",
    "  1. *NiPreps* are packaged as a fully-compliant [BIDS-Apps](../apps/framework.md), not just in its user interface, but also in the continuous integration, testing, and delivery.\n",
    "  1. The scope of *NiPreps* is strictly limited to preprocessing tasks.\n",
    "  1. *NiPreps* are agnostic to subsequent analysis, i.e., any software supporting BIDS-Derivatives for its inputs should be amenable to analyze data preprocessed with them."
   ]
  },
  {
   "cell_type": "markdown",
   "metadata": {
    "slideshow": {
     "slide_type": "subslide"
    }
   },
   "source": [
    "  5. *NiPreps* are thoroughly and transparently documented (including the generation of individual, visual reports with a consistent format that serve as scaffolds for understanding the underpinnings and design decisions).\n",
    "  6. *NiPreps* are community-driven, and contributors (in any sense) always [get credited](https://www.nipreps.com/community/CONTRIBUTING#recognizing-contributions) with authorship within relevant publications.\n",
    "  7. *NiPreps* are modular, reliant on widely-used tools such as *AFNI*, *ANTs*, *FreeSurfer*, *FSL*, *NiLearn*, or *DIPY* and extensible via plug-ins."
   ]
  },
  {
   "cell_type": "markdown",
   "metadata": {
    "slideshow": {
     "slide_type": "slide"
    }
   },
   "source": [
    "<video controls=\"controls\" width=\"80%\"\n",
    "       name=\"Video Name\" src=\"https://github.com/nipreps/nipreps.github.io/raw/mkdocs/docs/assets/torw2020/assets/fmriprep-report.mov\"></video>"
   ]
  },
  {
   "cell_type": "markdown",
   "metadata": {
    "slideshow": {
     "slide_type": "slide"
    }
   },
   "source": [
    "# Outlook\n",
    "\n",
    "- TemplateFlow\n",
    "- NiTransforms\n",
    "- CrowdMRI"
   ]
  },
  {
   "cell_type": "code",
   "execution_count": null,
   "metadata": {},
   "outputs": [],
   "source": []
  }
 ],
 "metadata": {
  "celltoolbar": "Slideshow",
  "kernelspec": {
   "display_name": "Python 3",
   "language": "python",
   "name": "python3"
  },
  "language_info": {
   "codemirror_mode": {
    "name": "ipython",
    "version": 3
   },
   "file_extension": ".py",
   "mimetype": "text/x-python",
   "name": "python",
   "nbconvert_exporter": "python",
   "pygments_lexer": "ipython3",
   "version": "3.7.8"
  }
 },
 "nbformat": 4,
 "nbformat_minor": 4
}
