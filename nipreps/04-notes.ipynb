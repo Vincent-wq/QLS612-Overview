{
 "cells": [
  {
   "cell_type": "markdown",
   "metadata": {
    "slideshow": {
     "slide_type": "slide"
    }
   },
   "source": [
    "# References\n",
    "\n",
    "- fMRIPrep ([Nat Meth](https://doi.org/10.1038/s41592-018-0235-4) & [Nat Prot](https://doi.org/10.1038/s41596-020-0327-3))\n",
    "- NiPreps (www.nipreps.org & [OHBM Abstract](https://doi.org/10.31219/osf.io/ujxp6))\n",
    "- TemplateFlow (www.templateflow.org & Pre-print soon!)\n",
    "- MRIQC ([PLOS One](https://doi.org/10.1371/journal.pone.0184661) & [Sci Data](https://doi.org/10.1038/s41597-019-0035-4))\n",
    "- NiTransforms ([ISBI2020](https://doi.org/10.1109/ISBI45749.2020.9098466))\n",
    "\n",
    "**All papers behind a wall have corresponding preprints freely available**"
   ]
  },
  {
   "cell_type": "markdown",
   "metadata": {
    "slideshow": {
     "slide_type": "slide"
    }
   },
   "source": [
    "# Open PhD Position in Lausanne (Switzerland)!\n",
    "\n",
    "- 4yrs. Ambizione Funding, affiliation to the Dept. of Radiology @ (CHUV, UNIL)\n",
    "- Starting as soon as possible\n",
    "- Lots of fMRI & dMRI acquisition, preprocessing and connectivity extraction\n",
    "- Contact me on Slack or by email"
   ]
  },
  {
   "cell_type": "markdown",
   "metadata": {
    "slideshow": {
     "slide_type": "slide"
    }
   },
   "source": [
    "# Thanks"
   ]
  }
 ],
 "metadata": {
  "celltoolbar": "Slideshow",
  "kernelspec": {
   "display_name": "Python 3",
   "language": "python",
   "name": "python3"
  },
  "language_info": {
   "codemirror_mode": {
    "name": "ipython",
    "version": 3
   },
   "file_extension": ".py",
   "mimetype": "text/x-python",
   "name": "python",
   "nbconvert_exporter": "python",
   "pygments_lexer": "ipython3",
   "version": "3.7.8"
  }
 },
 "nbformat": 4,
 "nbformat_minor": 4
}
