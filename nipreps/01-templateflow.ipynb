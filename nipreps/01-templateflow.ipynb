{
 "cells": [
  {
   "cell_type": "markdown",
   "metadata": {
    "slideshow": {
     "slide_type": "slide"
    }
   },
   "source": [
    "# TemplateFlow\n",
    "\n",
    "A resource for handling neuroimaging templates and atlases.\n",
    "\n",
    "Components:\n",
    "\n",
    "* The *TemplateFlow Archive*\n",
    "* The *Python Client*\n",
    "* The *TemplateFlow Registration Framework*\n",
    "\n",
    "Check [www.templateflow.org](https://www.templateflow.org)"
   ]
  },
  {
   "cell_type": "markdown",
   "metadata": {
    "slideshow": {
     "slide_type": "slide"
    }
   },
   "source": [
    "# The Python Client\n",
    "Provides an easy interface to access the *Archive* by humans and programs.\n",
    "\n",
    "## Easy to install"
   ]
  },
  {
   "cell_type": "code",
   "execution_count": 1,
   "metadata": {},
   "outputs": [
    {
     "name": "stdout",
     "output_type": "stream",
     "text": [
      "Requirement already satisfied: templateflow in /home/jovyan/.local/lib/python3.7/site-packages (0.6.3)\n",
      "Requirement already satisfied: requests in /srv/conda/envs/notebook/lib/python3.7/site-packages (from templateflow) (2.22.0)\n",
      "Requirement already satisfied: pybids>=0.11.1 in /home/jovyan/.local/lib/python3.7/site-packages (from templateflow) (0.11.1)\n",
      "Requirement already satisfied: tqdm in /srv/conda/envs/notebook/lib/python3.7/site-packages (from templateflow) (4.48.0)\n",
      "Requirement already satisfied: certifi>=2017.4.17 in /srv/conda/envs/notebook/lib/python3.7/site-packages (from requests->templateflow) (2020.6.20)\n",
      "Requirement already satisfied: urllib3!=1.25.0,!=1.25.1,<1.26,>=1.21.1 in /srv/conda/envs/notebook/lib/python3.7/site-packages (from requests->templateflow) (1.25.7)\n",
      "Requirement already satisfied: idna<2.9,>=2.5 in /srv/conda/envs/notebook/lib/python3.7/site-packages (from requests->templateflow) (2.8)\n",
      "Requirement already satisfied: chardet<3.1.0,>=3.0.2 in /srv/conda/envs/notebook/lib/python3.7/site-packages (from requests->templateflow) (3.0.4)\n",
      "Requirement already satisfied: bids-validator in /srv/conda/envs/notebook/lib/python3.7/site-packages (from pybids>=0.11.1->templateflow) (1.5.4)\n",
      "Requirement already satisfied: pandas>=0.23 in /srv/conda/envs/notebook/lib/python3.7/site-packages (from pybids>=0.11.1->templateflow) (1.0.5)\n",
      "Requirement already satisfied: num2words in /srv/conda/envs/notebook/lib/python3.7/site-packages (from pybids>=0.11.1->templateflow) (0.5.10)\n",
      "Requirement already satisfied: sqlalchemy in /srv/conda/envs/notebook/lib/python3.7/site-packages (from pybids>=0.11.1->templateflow) (1.3.13)\n",
      "Requirement already satisfied: patsy in /srv/conda/envs/notebook/lib/python3.7/site-packages (from pybids>=0.11.1->templateflow) (0.5.1)\n",
      "Requirement already satisfied: numpy in /srv/conda/envs/notebook/lib/python3.7/site-packages (from pybids>=0.11.1->templateflow) (1.19.1)\n",
      "Requirement already satisfied: scipy in /srv/conda/envs/notebook/lib/python3.7/site-packages (from pybids>=0.11.1->templateflow) (1.5.2)\n",
      "Requirement already satisfied: nibabel>=2.1 in /srv/conda/envs/notebook/lib/python3.7/site-packages (from pybids>=0.11.1->templateflow) (3.1.1)\n",
      "Requirement already satisfied: python-dateutil>=2.6.1 in /srv/conda/envs/notebook/lib/python3.7/site-packages (from pandas>=0.23->pybids>=0.11.1->templateflow) (2.8.1)\n",
      "Requirement already satisfied: pytz>=2017.2 in /srv/conda/envs/notebook/lib/python3.7/site-packages (from pandas>=0.23->pybids>=0.11.1->templateflow) (2020.1)\n",
      "Requirement already satisfied: docopt>=0.6.2 in /srv/conda/envs/notebook/lib/python3.7/site-packages (from num2words->pybids>=0.11.1->templateflow) (0.6.2)\n",
      "Requirement already satisfied: six in /srv/conda/envs/notebook/lib/python3.7/site-packages (from patsy->pybids>=0.11.1->templateflow) (1.14.0)\n",
      "Requirement already satisfied: packaging>=14.3 in /srv/conda/envs/notebook/lib/python3.7/site-packages (from nibabel>=2.1->pybids>=0.11.1->templateflow) (20.4)\n",
      "Requirement already satisfied: pyparsing>=2.0.2 in /srv/conda/envs/notebook/lib/python3.7/site-packages (from packaging>=14.3->nibabel>=2.1->pybids>=0.11.1->templateflow) (2.4.7)\n"
     ]
    }
   ],
   "source": [
    "!pip install templateflow --user"
   ]
  },
  {
   "cell_type": "markdown",
   "metadata": {
    "slideshow": {
     "slide_type": "slide"
    }
   },
   "source": [
    "# Easy to use\n",
    "The `api` submodule contains all the utilities"
   ]
  },
  {
   "cell_type": "code",
   "execution_count": 2,
   "metadata": {},
   "outputs": [],
   "source": [
    "from templateflow import api"
   ]
  },
  {
   "cell_type": "markdown",
   "metadata": {
    "slideshow": {
     "slide_type": "slide"
    }
   },
   "source": [
    "For instance, we can query the *Archive* to learn the list of templates currently available:"
   ]
  },
  {
   "cell_type": "code",
   "execution_count": 3,
   "metadata": {},
   "outputs": [
    {
     "data": {
      "text/plain": [
       "['MNI152Lin',\n",
       " 'MNI152NLin2009cAsym',\n",
       " 'MNI152NLin2009cSym',\n",
       " 'MNI152NLin6Asym',\n",
       " 'MNI152NLin6Sym',\n",
       " 'MNIInfant',\n",
       " 'MNIPediatricAsym',\n",
       " 'NKI',\n",
       " 'OASIS30ANTs',\n",
       " 'PNC',\n",
       " 'WHS',\n",
       " 'fsLR',\n",
       " 'fsaverage']"
      ]
     },
     "execution_count": 3,
     "metadata": {},
     "output_type": "execute_result"
    }
   ],
   "source": [
    "api.templates()"
   ]
  },
  {
   "cell_type": "markdown",
   "metadata": {
    "slideshow": {
     "slide_type": "slide"
    }
   },
   "source": [
    "Let's say we want to use the CerebrA parcellation recently published by the MNI group. The parcellation is defined on their `\"MNI152NLin2009cSym\"` template:"
   ]
  },
  {
   "cell_type": "code",
   "execution_count": 4,
   "metadata": {},
   "outputs": [
    {
     "data": {
      "text/plain": [
       "PosixPath('/home/jovyan/.cache/templateflow/tpl-MNI152NLin2009cSym/tpl-MNI152NLin2009cSym_res-1_atlas-CerebrA_dseg.nii.gz')"
      ]
     },
     "execution_count": 4,
     "metadata": {},
     "output_type": "execute_result"
    }
   ],
   "source": [
    "api.get(\"MNI152NLin2009cSym\", atlas=\"CerebrA\")"
   ]
  },
  {
   "cell_type": "markdown",
   "metadata": {
    "slideshow": {
     "slide_type": "subslide"
    }
   },
   "source": [
    "## Lazy-loading\n",
    "The first time we request a file, it gets downloaded to the `$TEMPLATEFLOW_HOME` folder, which by default points to `$HOME/.cache/templateflow`. The second time we run the same query, it's already fetched and available:"
   ]
  },
  {
   "cell_type": "code",
   "execution_count": 5,
   "metadata": {},
   "outputs": [
    {
     "data": {
      "text/plain": [
       "PosixPath('/home/jovyan/.cache/templateflow/tpl-MNI152NLin2009cSym/tpl-MNI152NLin2009cSym_res-1_atlas-CerebrA_dseg.nii.gz')"
      ]
     },
     "execution_count": 5,
     "metadata": {},
     "output_type": "execute_result"
    }
   ],
   "source": [
    "api.get(\"MNI152NLin2009cSym\", atlas=\"CerebrA\")"
   ]
  },
  {
   "cell_type": "markdown",
   "metadata": {
    "slideshow": {
     "slide_type": "subslide"
    }
   },
   "source": [
    "## PyBIDS-like interface\n",
    "The client just defines a new configuration object for PyBIDS, which is actually used in indexing and querying the Archive. For example, let's say we will need the anatomical reference of the CerebrA parcellation:"
   ]
  },
  {
   "cell_type": "code",
   "execution_count": 6,
   "metadata": {},
   "outputs": [
    {
     "data": {
      "text/plain": [
       "PosixPath('/home/jovyan/.cache/templateflow/tpl-MNI152NLin2009cSym/tpl-MNI152NLin2009cSym_res-1_T1w.nii.gz')"
      ]
     },
     "execution_count": 6,
     "metadata": {},
     "output_type": "execute_result"
    }
   ],
   "source": [
    "api.get(\"MNI152NLin2009cSym\", suffix=\"T1w\")"
   ]
  },
  {
   "cell_type": "markdown",
   "metadata": {
    "slideshow": {
     "slide_type": "slide"
    }
   },
   "source": [
    "# The *TemplateFlow Archive*\n",
    "\n",
    "The *Archive* is a replicated repository (stored on the OSF and a public S3 bucket) managed and version-controlled with DataLad.\n",
    "\n",
    "We are building a contribution workflow, so that users can easily upload their templates."
   ]
  },
  {
   "cell_type": "markdown",
   "metadata": {
    "slideshow": {
     "slide_type": "subslide"
    }
   },
   "source": [
    "<img src=\"https://github.com/nipreps/nipreps.github.io/raw/mkdocs/docs/assets/torw2020/assets/templateflow-datatypes.png\" style=\"width: 100%\" />"
   ]
  },
  {
   "cell_type": "markdown",
   "metadata": {
    "slideshow": {
     "slide_type": "subslide"
    }
   },
   "source": [
    "Currently available templates can be browsed with the [online browser](https://www.templateflow.org/archive/#browse-the-archive)\n",
    "\n",
    "<img src=\"https://github.com/nipreps/nipreps.github.io/raw/mkdocs/docs/assets/torw2020/assets/templateflow-archive.png\" style=\"width: 50%\" />"
   ]
  },
  {
   "cell_type": "markdown",
   "metadata": {
    "slideshow": {
     "slide_type": "subslide"
    }
   },
   "source": [
    "Accessing the Archive can be done with the Python client (recommended) or directly with Datalad (discouraged):"
   ]
  },
  {
   "cell_type": "code",
   "execution_count": 7,
   "metadata": {},
   "outputs": [
    {
     "name": "stdout",
     "output_type": "stream",
     "text": [
      "[INFO   ] Installing Dataset(/home/jovyan/curriculum/we-nipreps-esteban/templateflow) to get /home/jovyan/curriculum/we-nipreps-esteban/templateflow recursively \n",
      "\u001b[0m"
     ]
    }
   ],
   "source": [
    "!datalad install -r ///templateflow"
   ]
  },
  {
   "cell_type": "code",
   "execution_count": 8,
   "metadata": {
    "slideshow": {
     "slide_type": "subslide"
    }
   },
   "outputs": [
    {
     "name": "stdout",
     "output_type": "stream",
     "text": [
      "dataset_description.json  tpl-MNI152NLin2009cSym  tpl-NKI\r\n",
      "tpl-fsaverage\t\t  tpl-MNI152NLin6Asym\t  tpl-OASIS30ANTs\r\n",
      "tpl-fsLR\t\t  tpl-MNI152NLin6Sym\t  tpl-PNC\r\n",
      "tpl-MNI152Lin\t\t  tpl-MNIInfant\t\t  tpl-WHS\r\n",
      "tpl-MNI152NLin2009cAsym   tpl-MNIPediatricAsym\r\n"
     ]
    }
   ],
   "source": [
    "!ls templateflow/"
   ]
  },
  {
   "cell_type": "markdown",
   "metadata": {
    "slideshow": {
     "slide_type": "slide"
    }
   },
   "source": [
    "# Use-case: extracting time-series from preprocessed data\n",
    "The following use-case shows how to use the Finger/Foot/Lips motor task in DS000114, after preprocessing with fMRIPrep.\n",
    "\n",
    "The full dataset after preprocessing has been uploaded to [G-Node](https://gin.g-node.org/oesteban/ds000114/). We will extract the time-series for subject `05`, session `test`, and task `fingerfootlips`."
   ]
  },
  {
   "cell_type": "markdown",
   "metadata": {
    "slideshow": {
     "slide_type": "subslide"
    }
   },
   "source": [
    "Therefore, we will work on `sub-05_ses-test_task-fingerfootlips_space-MNI152NLin6Asym_res-02_desc-preproc_bold.nii.gz`, for which there's a symlink under `~/data/nipreps/templateflow/`."
   ]
  },
  {
   "cell_type": "code",
   "execution_count": 9,
   "metadata": {},
   "outputs": [],
   "source": [
    "from os import path as op\n",
    "data_file = op.expanduser(\n",
    "    \"~/data/nipreps/templateflow/\"\n",
    "    \"sub-05_ses-test_task-fingerfootlips_space-MNI152NLin6Asym_res-02_desc-preproc_bold.nii.gz\"\n",
    ")\n",
    "regressors_file = op.expanduser(\n",
    "    \"~/data/nipreps/templateflow/\"\n",
    "    \"sub-05_ses-test_task-fingerfootlips_desc-confounds_regressors.tsv\"\n",
    ")"
   ]
  },
  {
   "cell_type": "markdown",
   "metadata": {
    "slideshow": {
     "slide_type": "slide"
    }
   },
   "source": [
    "We will use the Schaefer parcellation with 7 networks and 100 ROIs, at the lower resolution (``res-02``) of the reference template (which is FSL's MNI, or `MNI152NLin6Asym` for TemplateFlow)."
   ]
  },
  {
   "cell_type": "code",
   "execution_count": 10,
   "metadata": {},
   "outputs": [],
   "source": [
    "atlas_filename = str(\n",
    "    api.get(\"MNI152NLin6Asym\", atlas=\"Schaefer2018\", resolution=2, desc=\"100Parcels7Networks\")\n",
    ")"
   ]
  },
  {
   "cell_type": "markdown",
   "metadata": {
    "slideshow": {
     "slide_type": "slide"
    }
   },
   "source": [
    "*Nilearn* provides a very convenient way of visualizing this particular parcellation:"
   ]
  },
  {
   "cell_type": "code",
   "execution_count": 11,
   "metadata": {
    "slideshow": {
     "slide_type": "-"
    }
   },
   "outputs": [
    {
     "data": {
      "text/plain": [
       "<nilearn.plotting.displays.OrthoSlicer at 0x7fd4d03d2490>"
      ]
     },
     "execution_count": 11,
     "metadata": {},
     "output_type": "execute_result"
    },
    {
     "data": {
      "image/png": "[encoded data removed]",
      "text/plain": [
       "<Figure size 475.2x187.2 with 4 Axes>"
      ]
     },
     "metadata": {},
     "output_type": "display_data"
    }
   ],
   "source": [
    "from nilearn import plotting\n",
    "plotting.plot_roi(atlas_filename)"
   ]
  },
  {
   "cell_type": "markdown",
   "metadata": {
    "slideshow": {
     "slide_type": "slide"
    }
   },
   "source": [
    "Let's examine how the parcellation looks on our data:"
   ]
  },
  {
   "cell_type": "code",
   "execution_count": 12,
   "metadata": {
    "slideshow": {
     "slide_type": "-"
    }
   },
   "outputs": [
    {
     "data": {
      "text/plain": [
       "<nilearn.plotting.displays.OrthoSlicer at 0x7fd4ca2b9290>"
      ]
     },
     "execution_count": 12,
     "metadata": {},
     "output_type": "execute_result"
    },
    {
     "data": {
      "image/png": "[encoded data removed]",
      "text/plain": [
       "<Figure size 475.2x187.2 with 4 Axes>"
      ]
     },
     "metadata": {},
     "output_type": "display_data"
    }
   ],
   "source": [
    "import nibabel as nb\n",
    "data_nii = nb.load(data_file)\n",
    "data_avg = data_nii.get_fdata().mean(axis=3)\n",
    "avg_nii = nb.Nifti1Image(data_avg, data_nii.affine)\n",
    "plotting.plot_roi(atlas_filename, bg_img=avg_nii)"
   ]
  },
  {
   "cell_type": "markdown",
   "metadata": {
    "slideshow": {
     "slide_type": "slide"
    }
   },
   "source": [
    "Finally, we use `NiftiLabelsMasker` from nilearn to extract the time-series:"
   ]
  },
  {
   "cell_type": "code",
   "execution_count": 14,
   "metadata": {
    "slideshow": {
     "slide_type": "-"
    }
   },
   "outputs": [
    {
     "data": {
      "text/plain": [
       "(184, 100)"
      ]
     },
     "execution_count": 14,
     "metadata": {},
     "output_type": "execute_result"
    }
   ],
   "source": [
    "from nilearn.input_data import NiftiLabelsMasker\n",
    "masker = NiftiLabelsMasker(labels_img=atlas_filename, standardize=True)\n",
    "time_series = masker.fit_transform(data_file)\n",
    "time_series.shape"
   ]
  },
  {
   "cell_type": "markdown",
   "metadata": {
    "slideshow": {
     "slide_type": "slide"
    }
   },
   "source": [
    "# Thanks!\n",
    "\n",
    "More at www.templateflow.org!"
   ]
  }
 ],
 "metadata": {
  "celltoolbar": "Slideshow",
  "kernelspec": {
   "display_name": "Python 3",
   "language": "python",
   "name": "python3"
  },
  "language_info": {
   "codemirror_mode": {
    "name": "ipython",
    "version": 3
   },
   "file_extension": ".py",
   "mimetype": "text/x-python",
   "name": "python",
   "nbconvert_exporter": "python",
   "pygments_lexer": "ipython3",
   "version": "3.7.8"
  }
 },
 "nbformat": 4,
 "nbformat_minor": 4
}
